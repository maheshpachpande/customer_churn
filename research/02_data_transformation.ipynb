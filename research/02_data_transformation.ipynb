{
 "cells": [
  {
   "cell_type": "code",
   "execution_count": 1,
   "metadata": {},
   "outputs": [
    {
     "data": {
      "text/plain": [
       "'c:\\\\Users\\\\pachp\\\\Desktop\\\\projects\\\\customer_churn\\\\research'"
      ]
     },
     "execution_count": 1,
     "metadata": {},
     "output_type": "execute_result"
    }
   ],
   "source": [
    "import os\n",
    "%pwd"
   ]
  },
  {
   "cell_type": "code",
   "execution_count": 2,
   "metadata": {},
   "outputs": [
    {
     "data": {
      "text/plain": [
       "'c:\\\\Users\\\\pachp\\\\Desktop\\\\projects\\\\customer_churn'"
      ]
     },
     "execution_count": 2,
     "metadata": {},
     "output_type": "execute_result"
    }
   ],
   "source": [
    "os.chdir(\"../\")\n",
    "%pwd"
   ]
  },
  {
   "cell_type": "code",
   "execution_count": 3,
   "metadata": {},
   "outputs": [],
   "source": [
    "from dataclasses import dataclass\n",
    "from pathlib import Path\n",
    "\n",
    "\n",
    "@dataclass(frozen=True)\n",
    "class DataTransformationConfig:\n",
    "    root_dir: Path\n",
    "    preprocessor_path: Path"
   ]
  },
  {
   "cell_type": "code",
   "execution_count": 4,
   "metadata": {},
   "outputs": [],
   "source": [
    "from customer_churn.constants import *\n",
    "from customer_churn.utils.common_utils import read_yaml, create_directories"
   ]
  },
  {
   "cell_type": "code",
   "execution_count": 5,
   "metadata": {},
   "outputs": [],
   "source": [
    "class ConfigurationManager:\n",
    "    def __init__(\n",
    "        self,\n",
    "        config_filepath = CONFIG_FILE_PATH,\n",
    "        params_filepath = PARAMS_FILE_PATH):\n",
    "\n",
    "        self.config = read_yaml(config_filepath)\n",
    "        self.params = read_yaml(params_filepath)\n",
    "\n",
    "        create_directories([self.config.artifacts_root])\n",
    "\n",
    "    def get_data_transformation_config(self) -> DataTransformationConfig:\n",
    "        config = self.config.data_transformation\n",
    "\n",
    "        create_directories([config.root_dir])\n",
    "\n",
    "        data_transformation_config = DataTransformationConfig(\n",
    "            root_dir=config.root_dir,\n",
    "            preprocessor_path=config.preprocessor_path\n",
    "        )\n",
    "\n",
    "        return data_transformation_config"
   ]
  },
  {
   "cell_type": "code",
   "execution_count": 6,
   "metadata": {},
   "outputs": [],
   "source": [
    "import warnings\n",
    "warnings.simplefilter('ignore')\n",
    "\n",
    "\n",
    "import numpy as np\n",
    "import pandas as pd\n",
    "from sklearn.preprocessing import StandardScaler, OneHotEncoder\n",
    "from sklearn.impute import SimpleImputer\n",
    "from sklearn.pipeline import Pipeline\n",
    "from sklearn.compose import ColumnTransformer\n",
    "from dataclasses import dataclass\n",
    "from pathlib import Path\n",
    "from box.exceptions import BoxValueError\n",
    "from customer_churn import logger\n",
    "from customer_churn.utils.common_utils import save_object"
   ]
  },
  {
   "cell_type": "code",
   "execution_count": 7,
   "metadata": {},
   "outputs": [],
   "source": [
    "\n",
    "class DataTransformation:\n",
    "    \n",
    "    def __init__(self, config: DataTransformationConfig):\n",
    "        self.config = config\n",
    "\n",
    "\n",
    "    def get_data_transformer_object(self):\n",
    "\n",
    "        '''\n",
    "        This is responcible for data transformation\n",
    "        '''\n",
    "\n",
    "        try:\n",
    "\n",
    "            num_features = ['Tenure Months', 'Monthly Charges', 'Total Charges', 'Churn Score',\n",
    "       'CLTV']\n",
    "            \n",
    "            cat_features = ['City', 'Gender', 'Senior Citizen', 'Partner', 'Dependents',\n",
    "       'Phone Service', 'Multiple Lines', 'Internet Service',\n",
    "       'Online Security', 'Online Backup', 'Device Protection', 'Tech Support',\n",
    "       'Streaming TV', 'Streaming Movies', 'Contract', 'Paperless Billing',\n",
    "       'Payment Method']\n",
    "            \n",
    "            logger.info(\"Pipeline initiated.....\")\n",
    "            num_pipeline = Pipeline(\n",
    "                steps=[\n",
    "                    (\"imputer\",SimpleImputer()),\n",
    "                    (\"scaler\", StandardScaler())\n",
    "                ]\n",
    "            )\n",
    "\n",
    "            cat_pipeline = Pipeline(\n",
    "                steps=[\n",
    "                    (\"imputer\", SimpleImputer(strategy=\"most_frequent\")),\n",
    "                    (\"onehot\", OneHotEncoder(sparse_output=False, drop=\"first\",dtype=np.int16))\n",
    "                ]\n",
    "            )\n",
    "\n",
    "            logger.info(\"Pipeline completed.\")\n",
    "\n",
    "            logger.info(\"columntransformation initiated.....\")\n",
    "            preprocessor = ColumnTransformer(\n",
    "                [\n",
    "                    (\"Numerical Pipeline\", num_pipeline, num_features),\n",
    "                    (\"Categorical Pipeline\", cat_pipeline, cat_features)\n",
    "                ]\n",
    "            )\n",
    "\n",
    "            logger.info(\"columntransformation completed.\")\n",
    "\n",
    "            return preprocessor\n",
    "        except BoxValueError:\n",
    "            raise ValueError(\"Error occured at data tranformation.....\")\n",
    "        except Exception as e:\n",
    "            raise e\n",
    "        \n",
    "        \n",
    "    def initiate_data_transformation(self, train_set, test_set):\n",
    "        try:\n",
    "            train_df = pd.read_csv(train_set)\n",
    "            test_df = pd.read_csv(test_set)\n",
    "            logger.info(\"Read train and test data completed.\")\n",
    "\n",
    "            preprocessor_obj = self.get_data_transformer_object()\n",
    "\n",
    "            target_column_name = \"Churn Value\"\n",
    "\n",
    "            logger.info(\"separate the independent and dependent columns started\")\n",
    "            \n",
    "            input_feature_train_df = train_df.drop(columns=[target_column_name], axis=1)\n",
    "            target_feature_train_df = train_df[target_column_name]\n",
    "\n",
    "            input_feature_test_df = test_df.drop(columns=[target_column_name], axis=1)\n",
    "            target_feature_test_df = test_df[target_column_name]\n",
    "\n",
    "            logger.info(\"separate the independent and dependent columns completed\")\n",
    "\n",
    "            logger.info(\"Applying preprocessing object on train and test dataset\")\n",
    "\n",
    "            input_feature_train_arr = preprocessor_obj.fit_transform(input_feature_train_df)\n",
    "            input_feature_test_arr = preprocessor_obj.transform(input_feature_test_df)\n",
    "\n",
    "            train_arr = np.c_[\n",
    "                input_feature_train_arr, np.array(target_feature_train_df)\n",
    "            ]\n",
    "\n",
    "            test_arr = np.c_[\n",
    "                input_feature_test_arr, np.array(target_feature_test_df)\n",
    "            ]\n",
    "\n",
    "            logger.info(\"Saved preprocessing object.\")\n",
    "\n",
    "            save_object(\n",
    "                file_path = self.config.preprocessor_path,\n",
    "                obj = preprocessor_obj\n",
    "            )\n",
    "\n",
    "            return (\n",
    "                train_arr,\n",
    "                test_arr,\n",
    "                self.config.preprocessor_path\n",
    "            )\n",
    "\n",
    "\n",
    "\n",
    "        except BoxValueError:\n",
    "            raise ValueError(\"Error occured at initiate data transformation.....\")\n",
    "        except Exception as e:\n",
    "            raise e\n"
   ]
  },
  {
   "cell_type": "code",
   "execution_count": 8,
   "metadata": {},
   "outputs": [
    {
     "name": "stdout",
     "output_type": "stream",
     "text": [
      "[2024-03-13 21:43:35,134: INFO: common_utils: yaml file: config\\config.yaml loaded successfully]\n",
      "[2024-03-13 21:43:35,149: INFO: common_utils: yaml file: params.yaml loaded successfully]\n",
      "[2024-03-13 21:43:35,153: INFO: common_utils: created directory at: artifacts]\n",
      "[2024-03-13 21:43:35,158: INFO: common_utils: created directory at: artifacts/data_transformation]\n"
     ]
    },
    {
     "name": "stdout",
     "output_type": "stream",
     "text": [
      "[2024-03-13 21:43:35,298: INFO: 4267195676: Read train and test data completed.]\n",
      "[2024-03-13 21:43:35,300: INFO: 4267195676: Pipeline initiated.....]\n",
      "[2024-03-13 21:43:35,305: INFO: 4267195676: Pipeline completed.]\n",
      "[2024-03-13 21:43:35,313: INFO: 4267195676: columntransformation initiated.....]\n",
      "[2024-03-13 21:43:35,320: INFO: 4267195676: columntransformation completed.]\n",
      "[2024-03-13 21:43:35,334: INFO: 4267195676: separate the independent and dependent columns started]\n",
      "[2024-03-13 21:43:35,365: INFO: 4267195676: separate the independent and dependent columns completed]\n",
      "[2024-03-13 21:43:35,367: INFO: 4267195676: Applying preprocessing object on train and test dataset]\n",
      "[2024-03-13 21:43:35,793: INFO: 4267195676: Saved preprocessing object.]\n"
     ]
    }
   ],
   "source": [
    "try:\n",
    "    config = ConfigurationManager()   \n",
    "    data_transformation_config = config.get_data_transformation_config()\n",
    "    data_transformation = DataTransformation(config=data_transformation_config)\n",
    "    data_transformation.initiate_data_transformation(\"artifacts/data_ingestion/train.csv\",\"artifacts/data_ingestion/test.csv\")\n",
    "except Exception as e:\n",
    "    raise e"
   ]
  },
  {
   "cell_type": "code",
   "execution_count": null,
   "metadata": {},
   "outputs": [],
   "source": []
  }
 ],
 "metadata": {
  "kernelspec": {
   "display_name": "Python 3",
   "language": "python",
   "name": "python3"
  },
  "language_info": {
   "codemirror_mode": {
    "name": "ipython",
    "version": 3
   },
   "file_extension": ".py",
   "mimetype": "text/x-python",
   "name": "python",
   "nbconvert_exporter": "python",
   "pygments_lexer": "ipython3",
   "version": "3.8.18"
  }
 },
 "nbformat": 4,
 "nbformat_minor": 2
}
